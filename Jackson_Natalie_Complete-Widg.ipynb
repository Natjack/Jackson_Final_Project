{
 "cells": [
  {
   "cell_type": "markdown",
   "metadata": {},
   "source": [
    "#  <h1>Chronic Condition Cost Project </h1>\n",
    "<h2>Natalie Jackson </h2>\n",
    "<h4> BMI 6018 </h4>\n",
    "<h3>Background:</h3>  This project was created to facilitate the analysis of which chronic conditions patient groupings in a Medicaid care plan had the highest claims costs.  Further analysis will examine which chronic condition attributes drive cost: prescription drug cost, medical cost, ED visits, Admissions, among others.<br>\n",
    "<h3>Project Goals:</h3>\n",
    "1.\tUse Python to identify chronic condition groupings with the highest claim costs.\n",
    "2.\tImport a csv file which lists Chronic Conditions groupings and their attributes.\n",
    "3.\tDefine a parent class and a child class that inherits from the parent class using a str method.\n",
    "4.\tCreate a matplotlib bar chart.\n"
   ]
  },
  {
   "cell_type": "code",
   "execution_count": 1,
   "metadata": {
    "collapsed": true
   },
   "outputs": [],
   "source": [
    "import csv\n",
    "import  matplotlib.pyplot as plt\n",
    "import numpy as np\n",
    "import ipywidgets as wg\n",
    "from IPython.display import display\n"
   ]
  },
  {
   "cell_type": "code",
   "execution_count": 6,
   "metadata": {
    "collapsed": true
   },
   "outputs": [],
   "source": [
    "class MedicaidPatients(object):\n",
    "    \n",
    "    \"\"\"A class to model Medicaid Patients.\"\"\"\n",
    "    \n",
    "    def __init__(self, age_group, ed_visits, total_cost):\n",
    "        self.age_group = age_group\n",
    "        self.ed_visits = ed_visits\n",
    "        self.total_cost = total_cost\n",
    "        \"\"\"Attributes:\n",
    "               attr1 (str): age_group\n",
    "               attr2 (str): ed_visits\n",
    "               attr3 (str): total_cost.\"\"\"\n",
    "\n",
    "\n",
    "        def __str__(self):\n",
    "                return \"age_group \"+self.age_group+\", ed_visits \"+str(self.ed_visits)+\", total_cost\"+ str(self.total_cost)\n",
    "        \"\"\"Get the individual characteristincs in a string.\"\"\"\n",
    "    \n",
    "class ChronCondPatients(MedicaidPatients):\n",
    "    \n",
    "    \"\"\"ChronCondPatients represents a medicaid patient chronic condition group.\"\"\"\n",
    "    \n",
    "    def __init__(self, age_group, ed_visits, total_cost, chronic_condition):\n",
    "        super(ChronCondPatients, self).__init__(age_group, ed_visits, total_cost)\n",
    "        self.chronic_condition = chronic_condition\n",
    "        \n",
    "    def getcost(self):\n",
    "        return self.total_cost\n",
    "        \"\"\"Return the total cost.\"\"\"\n",
    "    \n",
    "    def getcondition(self):\n",
    "        return self.chronic_condition\n",
    "        \"\"\"Return chronic conditon group names.\"\"\"\n",
    "    \n",
    "    def __str__(self):\n",
    "        return super(ChronCondPatients, self).__str__()+\" chronic condition \"+self.chronic_condition\n",
    "        \"\"\"Use super method to get access to the inherited methods from the parent class\n",
    "                and return a string.\"\"\"   \n",
    "\n",
    "    "
   ]
  },
  {
   "cell_type": "code",
   "execution_count": 8,
   "metadata": {},
   "outputs": [
    {
     "data": {
      "application/vnd.jupyter.widget-view+json": {
       "model_id": "36f2622ea6484434b8d0f01bf8fbcf35",
       "version_major": 2,
       "version_minor": 0
      },
      "text/html": [
       "<p>Failed to display Jupyter Widget of type <code>Text</code>.</p>\n",
       "<p>\n",
       "  If you're reading this message in the Jupyter Notebook or JupyterLab Notebook, it may mean\n",
       "  that the widgets JavaScript is still loading. If this message persists, it\n",
       "  likely means that the widgets JavaScript library is either not installed or\n",
       "  not enabled. See the <a href=\"https://ipywidgets.readthedocs.io/en/stable/user_install.html\">Jupyter\n",
       "  Widgets Documentation</a> for setup instructions.\n",
       "</p>\n",
       "<p>\n",
       "  If you're reading this message in another frontend (for example, a static\n",
       "  rendering on GitHub or <a href=\"https://nbviewer.jupyter.org/\">NBViewer</a>),\n",
       "  it may mean that your frontend doesn't currently support widgets.\n",
       "</p>\n"
      ],
      "text/plain": [
       "Text(value='ChronicCondition')"
      ]
     },
     "metadata": {},
     "output_type": "display_data"
    },
    {
     "data": {
      "application/vnd.jupyter.widget-view+json": {
       "model_id": "53c169dfcf6d4cb48df9513afdb893db",
       "version_major": 2,
       "version_minor": 0
      },
      "text/html": [
       "<p>Failed to display Jupyter Widget of type <code>IntSlider</code>.</p>\n",
       "<p>\n",
       "  If you're reading this message in the Jupyter Notebook or JupyterLab Notebook, it may mean\n",
       "  that the widgets JavaScript is still loading. If this message persists, it\n",
       "  likely means that the widgets JavaScript library is either not installed or\n",
       "  not enabled. See the <a href=\"https://ipywidgets.readthedocs.io/en/stable/user_install.html\">Jupyter\n",
       "  Widgets Documentation</a> for setup instructions.\n",
       "</p>\n",
       "<p>\n",
       "  If you're reading this message in another frontend (for example, a static\n",
       "  rendering on GitHub or <a href=\"https://nbviewer.jupyter.org/\">NBViewer</a>),\n",
       "  it may mean that your frontend doesn't currently support widgets.\n",
       "</p>\n"
      ],
      "text/plain": [
       "IntSlider(value=0, description='TotalCost')"
      ]
     },
     "metadata": {},
     "output_type": "display_data"
    }
   ],
   "source": [
    "ChronicCondition = wg.Text(value='ChronicCondition')\n",
    "TotalCost = wg.IntSlider(description='TotalCost')\n",
    "display(ChronicCondition, TotalCost)"
   ]
  },
  {
   "cell_type": "code",
   "execution_count": 15,
   "metadata": {},
   "outputs": [
    {
     "name": "stdout",
     "output_type": "stream",
     "text": [
      "Total Cost of ChronicCondition is the sum of medical cost and drug cost\n"
     ]
    }
   ],
   "source": [
    "print('Total Cost of ' + ChronicCondition.value + ' is the sum of ' + 'medical cost and drug cost')"
   ]
  },
  {
   "cell_type": "markdown",
   "metadata": {},
   "source": [
    "<h1>Chronic Condition Data </h1>\n",
    "<h2> A csv file with chronic condition groupings and their attributes."
   ]
  },
  {
   "cell_type": "code",
   "execution_count": 15,
   "metadata": {},
   "outputs": [
    {
     "data": {
      "text/plain": [
       "'Open and read the csv file ChronicCond.'"
      ]
     },
     "execution_count": 15,
     "metadata": {},
     "output_type": "execute_result"
    }
   ],
   "source": [
    "csvfile = open(\"ChronicCond.csv\", 'r', encoding='iso-8859-1')\n",
    "dialect = csv.Sniffer().sniff(csvfile.read(1024))\n",
    "csvfile.seek(0)\n",
    "DATAREADER = csv.reader(csvfile, dialect)\n",
    "\n",
    "\"\"\"Open and read the csv file ChronicCond.\"\"\""
   ]
  },
  {
   "cell_type": "code",
   "execution_count": 16,
   "metadata": {
    "collapsed": true
   },
   "outputs": [],
   "source": [
    "PATIENT_GROUP_LIST=[]\n",
    "\n",
    "\"\"\"Return an empty list called patient_group and use a for loop to iterate over the elements\n",
    "    in the csv file.\"\"\"  \n",
    "\n",
    "rownum = 0\n",
    "for row in DATAREADER:\n",
    "    if rownum == 0:\n",
    "        rownum += 1\n",
    "        continue\n",
    "    #print (row)\n",
    "    \n",
    "    PATIENT_GROUP_LIST.append(ChronCondPatients(\"Age Group\", row[8], float(row[9][1:].replace(',',\"\")), row[0]))\n",
    "    \"\"\"Prints the patient_group list with appended row 8, row 9 as a float, and replace \n",
    "    the comma, and row 0.\"\"\"   \n",
    "\n",
    "csvfile.close()\n",
    "#close the file"
   ]
  },
  {
   "cell_type": "code",
   "execution_count": 17,
   "metadata": {},
   "outputs": [
    {
     "name": "stdout",
     "output_type": "stream",
     "text": [
      "[<__main__.ChronCondPatients object at 0x7fba8f185438>, <__main__.ChronCondPatients object at 0x7fba8f188048>, <__main__.ChronCondPatients object at 0x7fba8f185470>, <__main__.ChronCondPatients object at 0x7fba8f1855f8>, <__main__.ChronCondPatients object at 0x7fba8f1856a0>, <__main__.ChronCondPatients object at 0x7fba8f185518>, <__main__.ChronCondPatients object at 0x7fba8f185550>, <__main__.ChronCondPatients object at 0x7fba8f185780>, <__main__.ChronCondPatients object at 0x7fba8f185710>, <__main__.ChronCondPatients object at 0x7fba8f185630>, <__main__.ChronCondPatients object at 0x7fba8f1855c0>, <__main__.ChronCondPatients object at 0x7fba8f1856d8>, <__main__.ChronCondPatients object at 0x7fba8f185748>, <__main__.ChronCondPatients object at 0x7fba8f185828>, <__main__.ChronCondPatients object at 0x7fba8f185a20>, <__main__.ChronCondPatients object at 0x7fba8f185b38>, <__main__.ChronCondPatients object at 0x7fba8f1857b8>, <__main__.ChronCondPatients object at 0x7fba8f185860>, <__main__.ChronCondPatients object at 0x7fba8f1859b0>, <__main__.ChronCondPatients object at 0x7fba8f185cc0>, <__main__.ChronCondPatients object at 0x7fba8f185c50>, <__main__.ChronCondPatients object at 0x7fba8f185a58>, <__main__.ChronCondPatients object at 0x7fba8f185b00>, <__main__.ChronCondPatients object at 0x7fba8f185ba8>, <__main__.ChronCondPatients object at 0x7fba8f185c88>, <__main__.ChronCondPatients object at 0x7fba8f185e48>, <__main__.ChronCondPatients object at 0x7fba8f185f98>, <__main__.ChronCondPatients object at 0x7fba8f185da0>, <__main__.ChronCondPatients object at 0x7fba8f185cf8>, <__main__.ChronCondPatients object at 0x7fba8f185f28>, <__main__.ChronCondPatients object at 0x7fba8f184d30>, <__main__.ChronCondPatients object at 0x7fba8f185fd0>, <__main__.ChronCondPatients object at 0x7fba8f184fd0>, <__main__.ChronCondPatients object at 0x7fba8f184080>, <__main__.ChronCondPatients object at 0x7fba8f184160>, <__main__.ChronCondPatients object at 0x7fba8f184240>, <__main__.ChronCondPatients object at 0x7fba8f184438>, <__main__.ChronCondPatients object at 0x7fba8f184390>, <__main__.ChronCondPatients object at 0x7fba8f184320>, <__main__.ChronCondPatients object at 0x7fba8f184358>, <__main__.ChronCondPatients object at 0x7fba8f184588>, <__main__.ChronCondPatients object at 0x7fba8f184208>, <__main__.ChronCondPatients object at 0x7fba8f1842b0>, <__main__.ChronCondPatients object at 0x7fba8f184470>, <__main__.ChronCondPatients object at 0x7fba8f1843c8>, <__main__.ChronCondPatients object at 0x7fba8f1844a8>, <__main__.ChronCondPatients object at 0x7fba8f184400>, <__main__.ChronCondPatients object at 0x7fba8f1844e0>, <__main__.ChronCondPatients object at 0x7fba8f184550>, <__main__.ChronCondPatients object at 0x7fba8f184940>, <__main__.ChronCondPatients object at 0x7fba8f184908>, <__main__.ChronCondPatients object at 0x7fba8f184898>, <__main__.ChronCondPatients object at 0x7fba8f1846a0>, <__main__.ChronCondPatients object at 0x7fba8f184c18>, <__main__.ChronCondPatients object at 0x7fba8f184780>, <__main__.ChronCondPatients object at 0x7fba8f184b38>, <__main__.ChronCondPatients object at 0x7fba8f184a58>, <__main__.ChronCondPatients object at 0x7fba8f184be0>, <__main__.ChronCondPatients object at 0x7fba8f184a20>, <__main__.ChronCondPatients object at 0x7fba8f184ac8>, <__main__.ChronCondPatients object at 0x7fba8f184c88>, <__main__.ChronCondPatients object at 0x7fba8f184cf8>, <__main__.ChronCondPatients object at 0x7fba8f184e48>]\n"
     ]
    }
   ],
   "source": [
    "print (PATIENT_GROUP_LIST)"
   ]
  },
  {
   "cell_type": "code",
   "execution_count": 13,
   "metadata": {
    "collapsed": true
   },
   "outputs": [],
   "source": [
    "LABELS = []\n",
    "COSTLABEL = []\n",
    "\n",
    "for condition in PATIENT_GROUP_LIST:\n",
    "    if condition.getcost() > 200000.00:\n",
    "        LABELS.append(condition.getcondition())\n",
    "        COSTLABEL.append(int(condition.getcost()))\n",
    "     "
   ]
  },
  {
   "cell_type": "markdown",
   "metadata": {
    "collapsed": true
   },
   "source": [
    "# Data Visualization\n"
   ]
  },
  {
   "cell_type": "code",
   "execution_count": 14,
   "metadata": {},
   "outputs": [
    {
     "data": {
      "image/png": "[encoded data removed]",
      "text/plain": [
       "<matplotlib.figure.Figure at 0x7f079ba046a0>"
      ]
     },
     "metadata": {},
     "output_type": "display_data"
    }
   ],
   "source": [
    "\n",
    "#pyp.bar(costlabel, height=[50,50,100], tick_label=labels)\n",
    "\n",
    "\n",
    "X = np.arange(len(LABELS))\n",
    "\n",
    "plt.bar(X, COSTLABEL)\n",
    "plt.xticks(X, LABELS, rotation='vertical')\n",
    "plt.show()"
   ]
  },
  {
   "cell_type": "code",
   "execution_count": null,
   "metadata": {
    "collapsed": true
   },
   "outputs": [],
   "source": []
  }
 ],
 "metadata": {
  "celltoolbar": "Raw Cell Format",
  "kernelspec": {
   "display_name": "Python 3",
   "language": "python",
   "name": "python3"
  },
  "language_info": {
   "codemirror_mode": {
    "name": "ipython",
    "version": 3
   },
   "file_extension": ".py",
   "mimetype": "text/x-python",
   "name": "python",
   "nbconvert_exporter": "python",
   "pygments_lexer": "ipython3",
   "version": "3.5.2"
  }
 },
 "nbformat": 4,
 "nbformat_minor": 2
}
